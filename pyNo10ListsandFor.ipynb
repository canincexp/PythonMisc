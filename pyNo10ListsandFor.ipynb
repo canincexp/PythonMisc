{
 "cells": [
  {
   "cell_type": "markdown",
   "metadata": {},
   "source": [
    "Listeler uzerinde iterasyon islemleri"
   ]
  },
  {
   "cell_type": "code",
   "execution_count": 3,
   "metadata": {},
   "outputs": [
    {
     "name": "stdin",
     "output_type": "stream",
     "text": [
      "Enter the list items :  9 8 7 6\n"
     ]
    },
    {
     "name": "stdout",
     "output_type": "stream",
     "text": [
      "[81, 64, 49, 36]\n"
     ]
    }
   ],
   "source": [
    "sayilar=[]\n",
    "sayilar = [int(item) for item in input(\"Enter the list items : \").split()]\n",
    "kareler=[]\n",
    "for i in sayilar:\n",
    "    kareler.append(i*i)\n",
    "print(kareler)"
   ]
  },
  {
   "cell_type": "code",
   "execution_count": 7,
   "metadata": {},
   "outputs": [
    {
     "name": "stdin",
     "output_type": "stream",
     "text": [
      "Enter the list items :  24 25 26\n"
     ]
    },
    {
     "name": "stdout",
     "output_type": "stream",
     "text": [
      " 25.0\n"
     ]
    }
   ],
   "source": [
    "sayilar=[]\n",
    "toplam=0\n",
    "sayilar = [int(item) for item in input(\"Enter the list items : \").split()]\n",
    "for i in sayilar:\n",
    "    toplam=toplam+i\n",
    "print('',toplam/len(sayilar))"
   ]
  },
  {
   "cell_type": "code",
   "execution_count": 8,
   "metadata": {},
   "outputs": [
    {
     "name": "stdin",
     "output_type": "stream",
     "text": [
      "Enter the list items :  3 5 6 7 9\n"
     ]
    },
    {
     "name": "stdout",
     "output_type": "stream",
     "text": [
      "3,6,9,"
     ]
    }
   ],
   "source": [
    "sayilar=[]\n",
    "sayilar = [int(item) for item in input(\"Enter the list items : \").split()]\n",
    "for i in sayilar:\n",
    "    if i%3==0:\n",
    "        print(i, end=',')\n",
    "    "
   ]
  },
  {
   "cell_type": "code",
   "execution_count": 9,
   "metadata": {},
   "outputs": [
    {
     "name": "stdout",
     "output_type": "stream",
     "text": [
      "3\n",
      "4\n",
      "7\n",
      "8\n",
      "10\n",
      "11\n",
      "14\n",
      "15\n"
     ]
    }
   ],
   "source": [
    "liste=[[3,4],[7,8],[10,11],[14,15]]\n",
    "for i,j in liste:\n",
    "    print(i)\n",
    "    print(j)"
   ]
  },
  {
   "cell_type": "code",
   "execution_count": 10,
   "metadata": {},
   "outputs": [
    {
     "name": "stdout",
     "output_type": "stream",
     "text": [
      "3\n",
      "4\n",
      "7\n",
      "8\n",
      "10\n",
      "11\n",
      "14\n",
      "15\n"
     ]
    }
   ],
   "source": [
    "#ya da su sekilde bir sey yapilabilir\n",
    "liste=[[3,4],[7,8],[10,11],[14,15]]\n",
    "for i in liste:\n",
    "    for j in i:\n",
    "        print(j)"
   ]
  },
  {
   "cell_type": "code",
   "execution_count": 23,
   "metadata": {},
   "outputs": [
    {
     "name": "stdin",
     "output_type": "stream",
     "text": [
      "satir giriniz 5\n",
      "sutun giriniz 3\n"
     ]
    },
    {
     "name": "stdout",
     "output_type": "stream",
     "text": [
      "1 2 3 \n",
      "1 2 3 \n",
      "1 2 3 \n",
      "1 2 3 \n",
      "1 2 3 \n"
     ]
    }
   ],
   "source": [
    "a=int(input('satir giriniz'))\n",
    "b=int(input('sutun giriniz'))\n",
    "\n",
    "for i in range(1,a+1):\n",
    "    for j in range(1,b+1):\n",
    "        print(j, end=' ')\n",
    "    print()"
   ]
  },
  {
   "cell_type": "code",
   "execution_count": null,
   "metadata": {},
   "outputs": [],
   "source": []
  }
 ],
 "metadata": {
  "kernelspec": {
   "display_name": "Python 3",
   "language": "python",
   "name": "python3"
  },
  "language_info": {
   "codemirror_mode": {
    "name": "ipython",
    "version": 3
   },
   "file_extension": ".py",
   "mimetype": "text/x-python",
   "name": "python",
   "nbconvert_exporter": "python",
   "pygments_lexer": "ipython3",
   "version": "3.8.5"
  }
 },
 "nbformat": 4,
 "nbformat_minor": 4
}
