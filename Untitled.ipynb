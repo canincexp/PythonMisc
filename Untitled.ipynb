{
 "cells": [
  {
   "cell_type": "markdown",
   "metadata": {},
   "source": [
    "Listeler uzerinde iterasyon islemleri"
   ]
  },
  {
   "cell_type": "code",
   "execution_count": 3,
   "metadata": {},
   "outputs": [
    {
     "name": "stdin",
     "output_type": "stream",
     "text": [
      "Enter the list items :  9 8 7 6\n"
     ]
    },
    {
     "name": "stdout",
     "output_type": "stream",
     "text": [
      "[81, 64, 49, 36]\n"
     ]
    }
   ],
   "source": [
    "sayilar=[]\n",
    "sayilar = [int(item) for item in input(\"Enter the list items : \").split()]\n",
    "kareler=[]\n",
    "for i in sayilar:\n",
    "    kareler.append(i*i)\n",
    "print(kareler)"
   ]
  },
  {
   "cell_type": "code",
   "execution_count": 7,
   "metadata": {},
   "outputs": [
    {
     "name": "stdin",
     "output_type": "stream",
     "text": [
      "Enter the list items :  24 25 26\n"
     ]
    },
    {
     "name": "stdout",
     "output_type": "stream",
     "text": [
      " 25.0\n"
     ]
    }
   ],
   "source": [
    "sayilar=[]\n",
    "toplam=0\n",
    "sayilar = [int(item) for item in input(\"Enter the list items : \").split()]\n",
    "for i in sayilar:\n",
    "    toplam=toplam+i\n",
    "print('',toplam/len(sayilar))"
   ]
  },
  {
   "cell_type": "code",
   "execution_count": null,
   "metadata": {},
   "outputs": [],
   "source": []
  }
 ],
 "metadata": {
  "kernelspec": {
   "display_name": "Python 3",
   "language": "python",
   "name": "python3"
  },
  "language_info": {
   "codemirror_mode": {
    "name": "ipython",
    "version": 3
   },
   "file_extension": ".py",
   "mimetype": "text/x-python",
   "name": "python",
   "nbconvert_exporter": "python",
   "pygments_lexer": "ipython3",
   "version": "3.8.5"
  }
 },
 "nbformat": 4,
 "nbformat_minor": 4
}
