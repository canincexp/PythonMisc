{
 "cells": [
  {
   "cell_type": "code",
   "execution_count": 1,
   "metadata": {},
   "outputs": [
    {
     "name": "stdout",
     "output_type": "stream",
     "text": [
      "{}\n"
     ]
    }
   ],
   "source": [
    "sozluk1={}\n",
    "print(sozluk1)"
   ]
  },
  {
   "cell_type": "code",
   "execution_count": 5,
   "metadata": {},
   "outputs": [
    {
     "name": "stdout",
     "output_type": "stream",
     "text": [
      "dict_keys(['konya', 'istanbul', 'ankara'])\n",
      "dict_values(['42', '34', '06'])\n"
     ]
    }
   ],
   "source": [
    "iller={'konya':'42','istanbul':'34','ankara':'06'}\n",
    "print(iller.keys())\n",
    "print(iller.values())"
   ]
  },
  {
   "cell_type": "code",
   "execution_count": 17,
   "metadata": {},
   "outputs": [
    {
     "name": "stdout",
     "output_type": "stream",
     "text": [
      "Portakal\n",
      "20\n"
     ]
    },
    {
     "name": "stdin",
     "output_type": "stream",
     "text": [
      "meyve ismi giriniz visne\n"
     ]
    },
    {
     "name": "stdout",
     "output_type": "stream",
     "text": [
      "visne\n",
      "{'Adi': 'visne', 'Turu': 'Turuncgiller', 'Kg': 20}\n",
      "{'Adi': 'visne', 'Turu': 'Turuncgiller'}\n",
      "{'Adi': 'visne'}\n",
      "{}\n"
     ]
    }
   ],
   "source": [
    "meyveler={'Adi':'Portakal','Turu':'Turuncgiller','Kg':20}\n",
    "print(meyveler['Adi'])\n",
    "print(meyveler['Kg'])\n",
    "meyveler['Adi']=input('meyve ismi giriniz')\n",
    "print(meyveler['Adi'])\n",
    "meyveler.update()\n",
    "print(meyveler)\n",
    "meyveler.pop('Kg') #silme isine yariyor\n",
    "meyveler.update()\n",
    "print(meyveler)\n",
    "del meyveler['Turu']\n",
    "print(meyveler)\n",
    "meyveler.clear()\n",
    "print(meyveler)"
   ]
  },
  {
   "cell_type": "markdown",
   "metadata": {},
   "source": [
    "Tuple'lar veri ekleme ve çıkarmanın yapılamadığı veri yapılarıdır. Bu değiştirilemez özellikleri dışında\n",
    "listelere benzemektedirler. Demetler ekleme çıkarma gibi işlemlerle uğraşmadığı için daha hızlı çalışır.\n",
    "Eklenen verilerin program boyunca değiştirilmesinin istenmediği durumlarda kullanılmaktadır."
   ]
  },
  {
   "cell_type": "code",
   "execution_count": 18,
   "metadata": {},
   "outputs": [
    {
     "name": "stdout",
     "output_type": "stream",
     "text": [
      "()\n"
     ]
    }
   ],
   "source": [
    "demet=()\n",
    "print(demet)"
   ]
  },
  {
   "cell_type": "code",
   "execution_count": 20,
   "metadata": {},
   "outputs": [
    {
     "name": "stdout",
     "output_type": "stream",
     "text": [
      "5\n",
      "20\n"
     ]
    }
   ],
   "source": [
    "tuple=(5,10,15,20,25,30)\n",
    "print(tuple[0])\n",
    "print(tuple[3])"
   ]
  },
  {
   "cell_type": "code",
   "execution_count": 24,
   "metadata": {},
   "outputs": [
    {
     "name": "stdout",
     "output_type": "stream",
     "text": [
      "True\n"
     ]
    }
   ],
   "source": [
    "harfler=('a','b','c','d','e')\n",
    "if 'a' in harfler:\n",
    "    print(True)\n",
    "else:\n",
    "    print(False)"
   ]
  },
  {
   "cell_type": "markdown",
   "metadata": {},
   "source": [
    "Demet veri yapılarında elemanlar iki parantez arasına yazılır lakin bu parantez zorunlu değildir. Yine\n",
    "aynı şekilde liste veri yapılarında olduğu gibi demetlerde de dilimleme (sliceable) ve iç içe geçirilme\n",
    "(nestable) yapılabilir."
   ]
  },
  {
   "cell_type": "code",
   "execution_count": 25,
   "metadata": {},
   "outputs": [
    {
     "name": "stdout",
     "output_type": "stream",
     "text": [
      "4\n",
      "7\n"
     ]
    }
   ],
   "source": [
    "d=((1,2),(3,4),(5,6),(7,8))\n",
    "print(d[1][1])\n",
    "print(d[-1][0])"
   ]
  },
  {
   "cell_type": "code",
   "execution_count": 27,
   "metadata": {},
   "outputs": [
    {
     "name": "stdout",
     "output_type": "stream",
     "text": [
      "2\n",
      "2\n"
     ]
    }
   ],
   "source": [
    "demet=('lale','zambak','kardelen','papatya','papatya')\n",
    "print(demet.index('kardelen'))\n",
    "print(demet.count('papatya'))"
   ]
  },
  {
   "cell_type": "code",
   "execution_count": 32,
   "metadata": {},
   "outputs": [
    {
     "ename": "TypeError",
     "evalue": "'tuple' object is not callable",
     "output_type": "error",
     "traceback": [
      "\u001b[1;31m---------------------------------------------------------------------------\u001b[0m",
      "\u001b[1;31mTypeError\u001b[0m                                 Traceback (most recent call last)",
      "\u001b[1;32m<ipython-input-32-d60e53a854e4>\u001b[0m in \u001b[0;36m<module>\u001b[1;34m\u001b[0m\n\u001b[0;32m      1\u001b[0m \u001b[0maylar\u001b[0m\u001b[1;33m=\u001b[0m\u001b[1;33m[\u001b[0m\u001b[1;34m\"ocak\"\u001b[0m\u001b[1;33m,\u001b[0m\u001b[1;34m\"subat\"\u001b[0m\u001b[1;33m,\u001b[0m\u001b[1;34m\"mart\"\u001b[0m\u001b[1;33m,\u001b[0m\u001b[1;34m\"nisan\"\u001b[0m\u001b[1;33m,\u001b[0m\u001b[1;34m\"mayis\"\u001b[0m\u001b[1;33m]\u001b[0m\u001b[1;33m\u001b[0m\u001b[1;33m\u001b[0m\u001b[0m\n\u001b[1;32m----> 2\u001b[1;33m \u001b[0mdemet\u001b[0m\u001b[1;33m=\u001b[0m\u001b[0mtuple\u001b[0m\u001b[1;33m(\u001b[0m\u001b[0maylar\u001b[0m\u001b[1;33m)\u001b[0m\u001b[1;33m\u001b[0m\u001b[1;33m\u001b[0m\u001b[0m\n\u001b[0m\u001b[0;32m      3\u001b[0m \u001b[0mprint\u001b[0m\u001b[1;33m(\u001b[0m\u001b[0mdemet\u001b[0m\u001b[1;33m)\u001b[0m\u001b[1;33m\u001b[0m\u001b[1;33m\u001b[0m\u001b[0m\n",
      "\u001b[1;31mTypeError\u001b[0m: 'tuple' object is not callable"
     ]
    }
   ],
   "source": [
    "aylar=[\"ocak\",\"subat\",\"mart\",\"nisan\",\"mayis\"]\n",
    "demet=tuple(aylar)\n",
    "print(demet)\n",
    "????????"
   ]
  },
  {
   "cell_type": "code",
   "execution_count": 35,
   "metadata": {},
   "outputs": [
    {
     "name": "stdout",
     "output_type": "stream",
     "text": [
      "1\n",
      "2\n",
      "4\n",
      "3\n",
      "5\n",
      "7\n",
      "6\n",
      "8\n",
      "[1, 2, 3, 4, 5, 6, 7, 8]\n"
     ]
    }
   ],
   "source": [
    "deneme=(1,2,4,3,5,7,6,8)\n",
    "for eleman in deneme:\n",
    "    print(eleman)\n",
    "print(sorted(deneme))"
   ]
  },
  {
   "cell_type": "code",
   "execution_count": null,
   "metadata": {},
   "outputs": [],
   "source": []
  }
 ],
 "metadata": {
  "kernelspec": {
   "display_name": "Python 3",
   "language": "python",
   "name": "python3"
  },
  "language_info": {
   "codemirror_mode": {
    "name": "ipython",
    "version": 3
   },
   "file_extension": ".py",
   "mimetype": "text/x-python",
   "name": "python",
   "nbconvert_exporter": "python",
   "pygments_lexer": "ipython3",
   "version": "3.8.5"
  }
 },
 "nbformat": 4,
 "nbformat_minor": 4
}
