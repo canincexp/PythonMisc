{
 "cells": [
  {
   "cell_type": "code",
   "execution_count": 16,
   "metadata": {},
   "outputs": [
    {
     "name": "stdin",
     "output_type": "stream",
     "text": [
      "sayi giriniz 250\n"
     ]
    },
    {
     "data": {
      "text/plain": [
       "False"
      ]
     },
     "execution_count": 16,
     "metadata": {},
     "output_type": "execute_result"
    }
   ],
   "source": [
    "def AsalMi(sayi):\n",
    "    sayac=2\n",
    "    while sayac<=int(sayi/2):\n",
    "        if sayi%sayac==0:\n",
    "            return False\n",
    "        sayac=sayac+1\n",
    "    return True\n",
    "a=int(input('sayi giriniz'))\n",
    "AsalMi(a)"
   ]
  },
  {
   "cell_type": "code",
   "execution_count": 22,
   "metadata": {},
   "outputs": [
    {
     "name": "stdin",
     "output_type": "stream",
     "text": [
      "sayi giriniz 20\n"
     ]
    },
    {
     "name": "stdout",
     "output_type": "stream",
     "text": [
      "2432902008176640000\n"
     ]
    }
   ],
   "source": [
    "def FaktoriyelAl(sayi):\n",
    "    sonuc=1\n",
    "    if sayi==0 or sayi==1:\n",
    "        print('sonuc 1')\n",
    "    elif sayi>1:\n",
    "        for i in range(1,sayi+1,1):\n",
    "            sonuc*=i\n",
    "        print(sonuc)\n",
    "    else:\n",
    "        print('0 veya daha buyuk bir sayi girmeniz gerekmektedir')\n",
    "        \n",
    "a=int(input('sayi giriniz'))\n",
    "FaktoriyelAl(a)"
   ]
  },
  {
   "cell_type": "code",
   "execution_count": 58,
   "metadata": {},
   "outputs": [
    {
     "name": "stdin",
     "output_type": "stream",
     "text": [
      "yukseklik giriniz 10\n",
      "karakter giriniz *\n"
     ]
    },
    {
     "name": "stdout",
     "output_type": "stream",
     "text": [
      "          *\n",
      "         ***\n",
      "        *****\n",
      "       *******\n",
      "      *********\n",
      "     ***********\n",
      "    *************\n",
      "   ***************\n",
      "  *****************\n",
      " *******************\n"
     ]
    }
   ],
   "source": [
    "def DrawTree(yukseklik,karakter):\n",
    "    b=yukseklik\n",
    "    for i in range(1,b+1):\n",
    "        print(b*' '+(2*i-1)*karakter)\n",
    "        b=b-1\n",
    "\n",
    "c=int(input('yukseklik giriniz'))\n",
    "k=str(input('karakter giriniz'))\n",
    "DrawTree(c,k)"
   ]
  },
  {
   "cell_type": "code",
   "execution_count": null,
   "metadata": {},
   "outputs": [],
   "source": []
  }
 ],
 "metadata": {
  "kernelspec": {
   "display_name": "Python 3",
   "language": "python",
   "name": "python3"
  },
  "language_info": {
   "codemirror_mode": {
    "name": "ipython",
    "version": 3
   },
   "file_extension": ".py",
   "mimetype": "text/x-python",
   "name": "python",
   "nbconvert_exporter": "python",
   "pygments_lexer": "ipython3",
   "version": "3.8.5"
  }
 },
 "nbformat": 4,
 "nbformat_minor": 4
}
